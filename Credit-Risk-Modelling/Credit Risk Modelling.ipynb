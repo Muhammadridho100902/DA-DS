{
 "cells": [
  {
   "cell_type": "markdown",
   "id": "ca165609",
   "metadata": {},
   "source": [
    "# Import Library"
   ]
  },
  {
   "cell_type": "code",
   "execution_count": 17,
   "id": "d1b394d1",
   "metadata": {
    "ExecuteTime": {
     "end_time": "2022-10-30T12:53:15.015353Z",
     "start_time": "2022-10-30T12:53:14.616867Z"
    }
   },
   "outputs": [],
   "source": [
    "import numpy as np\n",
    "import pandas as pd\n",
    "\n",
    "import os\n",
    "\n",
    "import warnings\n",
    "warnings.filterwarnings(\"ignore\") "
   ]
  },
  {
   "cell_type": "code",
   "execution_count": 18,
   "id": "2730df6f",
   "metadata": {
    "ExecuteTime": {
     "end_time": "2022-10-30T12:53:15.031267Z",
     "start_time": "2022-10-30T12:53:15.017268Z"
    }
   },
   "outputs": [
    {
     "data": {
      "text/plain": [
       "'c:\\\\Users\\\\Ridho\\\\Desktop\\\\Python Learn\\\\Credit-Risk-Modelling'"
      ]
     },
     "execution_count": 18,
     "metadata": {},
     "output_type": "execute_result"
    }
   ],
   "source": [
    "# Check Directory saat ini\n",
    "os.getcwd()"
   ]
  },
  {
   "cell_type": "code",
   "execution_count": 19,
   "id": "764e66c1",
   "metadata": {
    "ExecuteTime": {
     "end_time": "2022-10-30T12:53:15.047340Z",
     "start_time": "2022-10-30T12:53:15.032265Z"
    }
   },
   "outputs": [
    {
     "data": {
      "text/plain": [
       "['.git',\n",
       " '.ipynb_checkpoints',\n",
       " 'Credit Risk Modelling.ipynb',\n",
       " 'lc_2016_2017.csv',\n",
       " 'README.md']"
      ]
     },
     "execution_count": 19,
     "metadata": {},
     "output_type": "execute_result"
    }
   ],
   "source": [
    "# Check file apa saja yang ada di Directory saat ini\n",
    "os.listdir()"
   ]
  },
  {
   "cell_type": "code",
   "execution_count": 20,
   "id": "ad19162a",
   "metadata": {
    "ExecuteTime": {
     "end_time": "2022-10-30T12:53:18.702849Z",
     "start_time": "2022-10-30T12:53:15.049264Z"
    }
   },
   "outputs": [
    {
     "data": {
      "text/html": [
       "<div>\n",
       "<style scoped>\n",
       "    .dataframe tbody tr th:only-of-type {\n",
       "        vertical-align: middle;\n",
       "    }\n",
       "\n",
       "    .dataframe tbody tr th {\n",
       "        vertical-align: top;\n",
       "    }\n",
       "\n",
       "    .dataframe thead th {\n",
       "        text-align: right;\n",
       "    }\n",
       "</style>\n",
       "<table border=\"1\" class=\"dataframe\">\n",
       "  <thead>\n",
       "    <tr style=\"text-align: right;\">\n",
       "      <th></th>\n",
       "      <th>id</th>\n",
       "      <th>member_id</th>\n",
       "      <th>loan_amnt</th>\n",
       "      <th>funded_amnt</th>\n",
       "      <th>funded_amnt_inv</th>\n",
       "      <th>term</th>\n",
       "      <th>int_rate</th>\n",
       "      <th>installment</th>\n",
       "      <th>grade</th>\n",
       "      <th>sub_grade</th>\n",
       "      <th>...</th>\n",
       "      <th>total_bal_il</th>\n",
       "      <th>il_util</th>\n",
       "      <th>open_rv_12m</th>\n",
       "      <th>open_rv_24m</th>\n",
       "      <th>max_bal_bc</th>\n",
       "      <th>all_util</th>\n",
       "      <th>total_rev_hi_lim</th>\n",
       "      <th>inq_fi</th>\n",
       "      <th>total_cu_tl</th>\n",
       "      <th>inq_last_12m</th>\n",
       "    </tr>\n",
       "  </thead>\n",
       "  <tbody>\n",
       "    <tr>\n",
       "      <th>0</th>\n",
       "      <td>112435993</td>\n",
       "      <td>NaN</td>\n",
       "      <td>2300</td>\n",
       "      <td>2300</td>\n",
       "      <td>2300.0</td>\n",
       "      <td>36 months</td>\n",
       "      <td>12.62</td>\n",
       "      <td>77.08</td>\n",
       "      <td>C</td>\n",
       "      <td>C1</td>\n",
       "      <td>...</td>\n",
       "      <td>0.0</td>\n",
       "      <td>NaN</td>\n",
       "      <td>1.0</td>\n",
       "      <td>2.0</td>\n",
       "      <td>2315.0</td>\n",
       "      <td>55.0</td>\n",
       "      <td>7100.0</td>\n",
       "      <td>1.0</td>\n",
       "      <td>0.0</td>\n",
       "      <td>2.0</td>\n",
       "    </tr>\n",
       "    <tr>\n",
       "      <th>1</th>\n",
       "      <td>112290210</td>\n",
       "      <td>NaN</td>\n",
       "      <td>16000</td>\n",
       "      <td>16000</td>\n",
       "      <td>16000.0</td>\n",
       "      <td>60 months</td>\n",
       "      <td>12.62</td>\n",
       "      <td>360.95</td>\n",
       "      <td>C</td>\n",
       "      <td>C1</td>\n",
       "      <td>...</td>\n",
       "      <td>11078.0</td>\n",
       "      <td>69.0</td>\n",
       "      <td>3.0</td>\n",
       "      <td>5.0</td>\n",
       "      <td>1962.0</td>\n",
       "      <td>94.0</td>\n",
       "      <td>31900.0</td>\n",
       "      <td>0.0</td>\n",
       "      <td>6.0</td>\n",
       "      <td>1.0</td>\n",
       "    </tr>\n",
       "    <tr>\n",
       "      <th>2</th>\n",
       "      <td>112436985</td>\n",
       "      <td>NaN</td>\n",
       "      <td>6025</td>\n",
       "      <td>6025</td>\n",
       "      <td>6025.0</td>\n",
       "      <td>36 months</td>\n",
       "      <td>15.05</td>\n",
       "      <td>209.01</td>\n",
       "      <td>C</td>\n",
       "      <td>C4</td>\n",
       "      <td>...</td>\n",
       "      <td>0.0</td>\n",
       "      <td>NaN</td>\n",
       "      <td>1.0</td>\n",
       "      <td>2.0</td>\n",
       "      <td>1950.0</td>\n",
       "      <td>45.0</td>\n",
       "      <td>27700.0</td>\n",
       "      <td>1.0</td>\n",
       "      <td>5.0</td>\n",
       "      <td>3.0</td>\n",
       "    </tr>\n",
       "    <tr>\n",
       "      <th>3</th>\n",
       "      <td>112439006</td>\n",
       "      <td>NaN</td>\n",
       "      <td>20400</td>\n",
       "      <td>20400</td>\n",
       "      <td>20400.0</td>\n",
       "      <td>36 months</td>\n",
       "      <td>9.44</td>\n",
       "      <td>652.91</td>\n",
       "      <td>B</td>\n",
       "      <td>B1</td>\n",
       "      <td>...</td>\n",
       "      <td>53566.0</td>\n",
       "      <td>95.0</td>\n",
       "      <td>1.0</td>\n",
       "      <td>2.0</td>\n",
       "      <td>4240.0</td>\n",
       "      <td>60.0</td>\n",
       "      <td>46900.0</td>\n",
       "      <td>1.0</td>\n",
       "      <td>1.0</td>\n",
       "      <td>1.0</td>\n",
       "    </tr>\n",
       "    <tr>\n",
       "      <th>4</th>\n",
       "      <td>112438929</td>\n",
       "      <td>NaN</td>\n",
       "      <td>13000</td>\n",
       "      <td>13000</td>\n",
       "      <td>13000.0</td>\n",
       "      <td>36 months</td>\n",
       "      <td>11.99</td>\n",
       "      <td>431.73</td>\n",
       "      <td>B</td>\n",
       "      <td>B5</td>\n",
       "      <td>...</td>\n",
       "      <td>8466.0</td>\n",
       "      <td>72.0</td>\n",
       "      <td>0.0</td>\n",
       "      <td>1.0</td>\n",
       "      <td>2996.0</td>\n",
       "      <td>78.0</td>\n",
       "      <td>7800.0</td>\n",
       "      <td>0.0</td>\n",
       "      <td>0.0</td>\n",
       "      <td>0.0</td>\n",
       "    </tr>\n",
       "  </tbody>\n",
       "</table>\n",
       "<p>5 rows × 72 columns</p>\n",
       "</div>"
      ],
      "text/plain": [
       "          id  member_id  loan_amnt  funded_amnt  funded_amnt_inv       term  \\\n",
       "0  112435993        NaN       2300         2300           2300.0  36 months   \n",
       "1  112290210        NaN      16000        16000          16000.0  60 months   \n",
       "2  112436985        NaN       6025         6025           6025.0  36 months   \n",
       "3  112439006        NaN      20400        20400          20400.0  36 months   \n",
       "4  112438929        NaN      13000        13000          13000.0  36 months   \n",
       "\n",
       "   int_rate  installment grade sub_grade  ... total_bal_il il_util  \\\n",
       "0     12.62        77.08     C        C1  ...          0.0     NaN   \n",
       "1     12.62       360.95     C        C1  ...      11078.0    69.0   \n",
       "2     15.05       209.01     C        C4  ...          0.0     NaN   \n",
       "3      9.44       652.91     B        B1  ...      53566.0    95.0   \n",
       "4     11.99       431.73     B        B5  ...       8466.0    72.0   \n",
       "\n",
       "  open_rv_12m  open_rv_24m max_bal_bc all_util total_rev_hi_lim inq_fi  \\\n",
       "0         1.0          2.0     2315.0     55.0           7100.0    1.0   \n",
       "1         3.0          5.0     1962.0     94.0          31900.0    0.0   \n",
       "2         1.0          2.0     1950.0     45.0          27700.0    1.0   \n",
       "3         1.0          2.0     4240.0     60.0          46900.0    1.0   \n",
       "4         0.0          1.0     2996.0     78.0           7800.0    0.0   \n",
       "\n",
       "  total_cu_tl inq_last_12m  \n",
       "0         0.0          2.0  \n",
       "1         6.0          1.0  \n",
       "2         5.0          3.0  \n",
       "3         1.0          1.0  \n",
       "4         0.0          0.0  \n",
       "\n",
       "[5 rows x 72 columns]"
      ]
     },
     "execution_count": 20,
     "metadata": {},
     "output_type": "execute_result"
    }
   ],
   "source": [
    "# Membaca csv file dan melihat 5 baris pertama\n",
    "loan_data = pd.read_csv('lc_2016_2017.csv')\n",
    "loan_data.head()"
   ]
  },
  {
   "cell_type": "code",
   "execution_count": 21,
   "id": "bb32db7f",
   "metadata": {
    "ExecuteTime": {
     "end_time": "2022-10-30T12:53:18.717940Z",
     "start_time": "2022-10-30T12:53:18.703704Z"
    }
   },
   "outputs": [
    {
     "data": {
      "text/plain": [
       "(759338, 72)"
      ]
     },
     "execution_count": 21,
     "metadata": {},
     "output_type": "execute_result"
    }
   ],
   "source": [
    "# Melihat total baris dan kolom\n",
    "loan_data.shape\n",
    "\n",
    "## Total jumlah baris 759,338 dan 72 kolom"
   ]
  },
  {
   "cell_type": "code",
   "execution_count": 22,
   "id": "5f3a85fb",
   "metadata": {
    "ExecuteTime": {
     "end_time": "2022-10-30T12:53:19.263559Z",
     "start_time": "2022-10-30T12:53:18.718939Z"
    }
   },
   "outputs": [
    {
     "name": "stdout",
     "output_type": "stream",
     "text": [
      "<class 'pandas.core.frame.DataFrame'>\n",
      "RangeIndex: 759338 entries, 0 to 759337\n",
      "Data columns (total 72 columns):\n",
      " #   Column                       Non-Null Count   Dtype  \n",
      "---  ------                       --------------   -----  \n",
      " 0   id                           759338 non-null  int64  \n",
      " 1   member_id                    0 non-null       float64\n",
      " 2   loan_amnt                    759338 non-null  int64  \n",
      " 3   funded_amnt                  759338 non-null  int64  \n",
      " 4   funded_amnt_inv              759338 non-null  float64\n",
      " 5   term                         759338 non-null  object \n",
      " 6   int_rate                     759338 non-null  float64\n",
      " 7   installment                  759338 non-null  float64\n",
      " 8   grade                        759338 non-null  object \n",
      " 9   sub_grade                    759338 non-null  object \n",
      " 10  emp_title                    708368 non-null  object \n",
      " 11  emp_length                   708975 non-null  object \n",
      " 12  home_ownership               759338 non-null  object \n",
      " 13  annual_inc                   759338 non-null  float64\n",
      " 14  verification_status          759338 non-null  object \n",
      " 15  issue_d                      759338 non-null  object \n",
      " 16  loan_status                  759338 non-null  object \n",
      " 17  pymnt_plan                   759338 non-null  object \n",
      " 18  desc                         17 non-null      object \n",
      " 19  purpose                      759338 non-null  object \n",
      " 20  title                        736165 non-null  object \n",
      " 21  zip_code                     759337 non-null  object \n",
      " 22  addr_state                   759338 non-null  object \n",
      " 23  dti                          758983 non-null  float64\n",
      " 24  delinq_2yrs                  759338 non-null  int64  \n",
      " 25  earliest_cr_line             759338 non-null  object \n",
      " 26  inq_last_6mths               759337 non-null  float64\n",
      " 27  mths_since_last_delinq       396633 non-null  float64\n",
      " 28  mths_since_last_record       141179 non-null  float64\n",
      " 29  open_acc                     759338 non-null  int64  \n",
      " 30  pub_rec                      759338 non-null  int64  \n",
      " 31  revol_bal                    759338 non-null  float64\n",
      " 32  revol_util                   758821 non-null  float64\n",
      " 33  total_acc                    759338 non-null  int64  \n",
      " 34  initial_list_status          759338 non-null  object \n",
      " 35  out_prncp                    759338 non-null  float64\n",
      " 36  out_prncp_inv                759338 non-null  float64\n",
      " 37  total_pymnt                  759338 non-null  float64\n",
      " 38  total_pymnt_inv              759338 non-null  float64\n",
      " 39  total_rec_prncp              759338 non-null  float64\n",
      " 40  total_rec_int                759338 non-null  float64\n",
      " 41  total_rec_late_fee           759338 non-null  float64\n",
      " 42  recoveries                   759338 non-null  float64\n",
      " 43  collection_recovery_fee      759338 non-null  float64\n",
      " 44  last_pymnt_d                 758390 non-null  object \n",
      " 45  last_pymnt_amnt              759338 non-null  float64\n",
      " 46  next_pymnt_d                 591423 non-null  object \n",
      " 47  last_credit_pull_d           759320 non-null  object \n",
      " 48  collections_12_mths_ex_med   759338 non-null  int64  \n",
      " 49  mths_since_last_major_derog  215105 non-null  float64\n",
      " 50  policy_code                  759338 non-null  int64  \n",
      " 51  application_type             759338 non-null  object \n",
      " 52  annual_inc_joint             34003 non-null   float64\n",
      " 53  dti_joint                    34001 non-null   float64\n",
      " 54  verification_status_joint    34003 non-null   object \n",
      " 55  acc_now_delinq               759338 non-null  int64  \n",
      " 56  tot_coll_amt                 759338 non-null  float64\n",
      " 57  tot_cur_bal                  759338 non-null  float64\n",
      " 58  open_acc_6m                  759276 non-null  float64\n",
      " 59  open_il_12m                  759277 non-null  float64\n",
      " 60  open_il_24m                  759277 non-null  float64\n",
      " 61  mths_since_rcnt_il           738795 non-null  float64\n",
      " 62  total_bal_il                 759277 non-null  float64\n",
      " 63  il_util                      658743 non-null  float64\n",
      " 64  open_rv_12m                  759277 non-null  float64\n",
      " 65  open_rv_24m                  759277 non-null  float64\n",
      " 66  max_bal_bc                   759277 non-null  float64\n",
      " 67  all_util                     759224 non-null  float64\n",
      " 68  total_rev_hi_lim             759338 non-null  float64\n",
      " 69  inq_fi                       759277 non-null  float64\n",
      " 70  total_cu_tl                  759276 non-null  float64\n",
      " 71  inq_last_12m                 759276 non-null  float64\n",
      "dtypes: float64(40), int64(10), object(22)\n",
      "memory usage: 417.1+ MB\n"
     ]
    }
   ],
   "source": [
    "# Melihat info seluruh kolom\n",
    "loan_data.info()\n",
    "\n",
    "## Terdapat beberapa kolom/feature yang memiliki null values atau missing values"
   ]
  },
  {
   "cell_type": "markdown",
   "id": "4bc30dcc",
   "metadata": {},
   "source": [
    "# Target Variable\n",
    "Dikarenakan project ini untuk mengetahui bad loan & good loan, maka perlu dibuat feature baru, yaitu target variable yang merepresentasikan bad loan (sebagai 1) dan good loan (sebagai 0)."
   ]
  },
  {
   "cell_type": "code",
   "execution_count": 23,
   "id": "5e34efee",
   "metadata": {
    "ExecuteTime": {
     "end_time": "2022-10-30T12:53:19.311523Z",
     "start_time": "2022-10-30T12:53:19.264558Z"
    }
   },
   "outputs": [
    {
     "data": {
      "text/plain": [
       "array(['Current', 'Fully Paid', 'In Grace Period', 'Late (31-120 days)',\n",
       "       'Late (16-30 days)', 'Charged Off', 'Default'], dtype=object)"
      ]
     },
     "execution_count": 23,
     "metadata": {},
     "output_type": "execute_result"
    }
   ],
   "source": [
    "# Melihat unique values pada feature loan_status\n",
    "loan_data.loan_status.unique()"
   ]
  },
  {
   "cell_type": "code",
   "execution_count": 24,
   "id": "abc886bb",
   "metadata": {
    "ExecuteTime": {
     "end_time": "2022-10-30T12:53:19.343367Z",
     "start_time": "2022-10-30T12:53:19.312519Z"
    }
   },
   "outputs": [],
   "source": [
    "# Membuat feature baru yaitu good_bad sebagai target variable,\n",
    "# Jika loan_statusnya 'Charged Off', 'Default', 'Late (31-120 days)', 'Late (16-30 days)' \n",
    "# akan dianggap sebagai bad_loan atau 1 dan nilai selain itu akan dianggap good loan atau 0\n",
    "loan_data['good_bad'] = np.where(loan_data.loc[:, 'loan_status'].isin(['Charged Off', \n",
    "                                                                   'Default', 'Late (31-120 days)', 'Late (16-30 days)'])\n",
    "                                , 1 , 0)"
   ]
  },
  {
   "cell_type": "code",
   "execution_count": 25,
   "id": "687023a5",
   "metadata": {
    "ExecuteTime": {
     "end_time": "2022-10-30T12:53:19.359475Z",
     "start_time": "2022-10-30T12:53:19.344366Z"
    }
   },
   "outputs": [
    {
     "data": {
      "text/plain": [
       "0    702875\n",
       "1     56463\n",
       "Name: good_bad, dtype: int64"
      ]
     },
     "execution_count": 25,
     "metadata": {},
     "output_type": "execute_result"
    }
   ],
   "source": [
    "# Melihat distribusi 0 dan 1\n",
    "loan_data.good_bad.value_counts()"
   ]
  },
  {
   "cell_type": "code",
   "execution_count": 26,
   "id": "1f145c84",
   "metadata": {
    "ExecuteTime": {
     "end_time": "2022-10-30T12:53:19.374675Z",
     "start_time": "2022-10-30T12:53:19.361490Z"
    }
   },
   "outputs": [
    {
     "data": {
      "text/plain": [
       "0    0.925642\n",
       "1    0.074358\n",
       "Name: good_bad, dtype: float64"
      ]
     },
     "execution_count": 26,
     "metadata": {},
     "output_type": "execute_result"
    }
   ],
   "source": [
    "loan_data.good_bad.value_counts(normalize=True)"
   ]
  },
  {
   "cell_type": "markdown",
   "id": "3f7260a1",
   "metadata": {},
   "source": [
    "# Missing Values\n",
    "Feature yang memiliki missing values lebih dari 50% akan di drop, karena jika ingin diisi dengan nilai lain seperti median atau mean, maka errornya akan sangat tinggi. Lebih baik di drop agar tidak membuat model semakin tidak akurat."
   ]
  },
  {
   "cell_type": "code",
   "execution_count": 27,
   "id": "1b8e27df",
   "metadata": {
    "ExecuteTime": {
     "end_time": "2022-10-30T12:53:19.912430Z",
     "start_time": "2022-10-30T12:53:19.375677Z"
    }
   },
   "outputs": [
    {
     "data": {
      "text/html": [
       "<div>\n",
       "<style scoped>\n",
       "    .dataframe tbody tr th:only-of-type {\n",
       "        vertical-align: middle;\n",
       "    }\n",
       "\n",
       "    .dataframe tbody tr th {\n",
       "        vertical-align: top;\n",
       "    }\n",
       "\n",
       "    .dataframe thead th {\n",
       "        text-align: right;\n",
       "    }\n",
       "</style>\n",
       "<table border=\"1\" class=\"dataframe\">\n",
       "  <thead>\n",
       "    <tr style=\"text-align: right;\">\n",
       "      <th></th>\n",
       "      <th>0</th>\n",
       "    </tr>\n",
       "  </thead>\n",
       "  <tbody>\n",
       "    <tr>\n",
       "      <th>member_id</th>\n",
       "      <td>1.000000</td>\n",
       "    </tr>\n",
       "    <tr>\n",
       "      <th>desc</th>\n",
       "      <td>0.999978</td>\n",
       "    </tr>\n",
       "    <tr>\n",
       "      <th>dti_joint</th>\n",
       "      <td>0.955223</td>\n",
       "    </tr>\n",
       "    <tr>\n",
       "      <th>annual_inc_joint</th>\n",
       "      <td>0.955220</td>\n",
       "    </tr>\n",
       "    <tr>\n",
       "      <th>verification_status_joint</th>\n",
       "      <td>0.955220</td>\n",
       "    </tr>\n",
       "    <tr>\n",
       "      <th>mths_since_last_record</th>\n",
       "      <td>0.814076</td>\n",
       "    </tr>\n",
       "    <tr>\n",
       "      <th>mths_since_last_major_derog</th>\n",
       "      <td>0.716720</td>\n",
       "    </tr>\n",
       "  </tbody>\n",
       "</table>\n",
       "</div>"
      ],
      "text/plain": [
       "                                    0\n",
       "member_id                    1.000000\n",
       "desc                         0.999978\n",
       "dti_joint                    0.955223\n",
       "annual_inc_joint             0.955220\n",
       "verification_status_joint    0.955220\n",
       "mths_since_last_record       0.814076\n",
       "mths_since_last_major_derog  0.716720"
      ]
     },
     "execution_count": 27,
     "metadata": {},
     "output_type": "execute_result"
    }
   ],
   "source": [
    "# Melihat feature apa saja yang memiliki missing value lebih dari 50%\n",
    "missing_values = pd.DataFrame(loan_data.isnull().sum()/loan_data.shape[0])\n",
    "missing_values = missing_values[missing_values.iloc[:,0] > 0.50]\n",
    "missing_values.sort_values([0], ascending=False)"
   ]
  },
  {
   "cell_type": "code",
   "execution_count": 28,
   "id": "9d94beae",
   "metadata": {
    "ExecuteTime": {
     "end_time": "2022-10-30T12:53:20.590439Z",
     "start_time": "2022-10-30T12:53:19.913371Z"
    }
   },
   "outputs": [],
   "source": [
    "# Drop feature tersebut\n",
    "loan_data.dropna(thresh = loan_data.shape[0]*0.5, axis=1, inplace=True)"
   ]
  },
  {
   "cell_type": "code",
   "execution_count": 29,
   "id": "4bdca841",
   "metadata": {
    "ExecuteTime": {
     "end_time": "2022-10-30T12:53:21.177380Z",
     "start_time": "2022-10-30T12:53:20.592355Z"
    }
   },
   "outputs": [
    {
     "data": {
      "text/html": [
       "<div>\n",
       "<style scoped>\n",
       "    .dataframe tbody tr th:only-of-type {\n",
       "        vertical-align: middle;\n",
       "    }\n",
       "\n",
       "    .dataframe tbody tr th {\n",
       "        vertical-align: top;\n",
       "    }\n",
       "\n",
       "    .dataframe thead th {\n",
       "        text-align: right;\n",
       "    }\n",
       "</style>\n",
       "<table border=\"1\" class=\"dataframe\">\n",
       "  <thead>\n",
       "    <tr style=\"text-align: right;\">\n",
       "      <th></th>\n",
       "      <th>0</th>\n",
       "    </tr>\n",
       "  </thead>\n",
       "  <tbody>\n",
       "  </tbody>\n",
       "</table>\n",
       "</div>"
      ],
      "text/plain": [
       "Empty DataFrame\n",
       "Columns: [0]\n",
       "Index: []"
      ]
     },
     "execution_count": 29,
     "metadata": {},
     "output_type": "execute_result"
    }
   ],
   "source": [
    "# Pengecheckan ulang apakah feature tersebut berhasil di drop\n",
    "missing_values = pd.DataFrame(loan_data.isnull().sum()/loan_data.shape[0])\n",
    "missing_values = missing_values[missing_values.iloc[:,0] > 0.50]\n",
    "missing_values.sort_values([0], ascending=False)"
   ]
  },
  {
   "cell_type": "markdown",
   "id": "4e33b736",
   "metadata": {},
   "source": [
    "# Data Splitting"
   ]
  },
  {
   "cell_type": "code",
   "execution_count": 30,
   "id": "2a85d695",
   "metadata": {
    "ExecuteTime": {
     "end_time": "2022-10-30T12:53:21.658632Z",
     "start_time": "2022-10-30T12:53:21.179378Z"
    }
   },
   "outputs": [],
   "source": [
    "from sklearn.model_selection import train_test_split"
   ]
  },
  {
   "cell_type": "code",
   "execution_count": 31,
   "id": "114fa5ed",
   "metadata": {
    "ExecuteTime": {
     "end_time": "2022-10-30T12:53:22.683398Z",
     "start_time": "2022-10-30T12:53:21.659504Z"
    }
   },
   "outputs": [],
   "source": [
    "# Membagi data menjadi 80/20 dengan menyamakan distribusi dari bad loans di test set dengan train set.\n",
    "X = loan_data.drop('good_bad', axis=1)\n",
    "y = loan_data['good_bad']\n",
    "\n",
    "X_train, X_test, y_train, y_test = train_test_split(X, y, test_size= 0.2, stratify= y, random_state=42)"
   ]
  },
  {
   "cell_type": "code",
   "execution_count": 32,
   "id": "301d7fcc",
   "metadata": {
    "ExecuteTime": {
     "end_time": "2022-10-30T12:53:22.699484Z",
     "start_time": "2022-10-30T12:53:22.684402Z"
    }
   },
   "outputs": [
    {
     "data": {
      "text/plain": [
       "0    0.925642\n",
       "1    0.074358\n",
       "Name: good_bad, dtype: float64"
      ]
     },
     "execution_count": 32,
     "metadata": {},
     "output_type": "execute_result"
    }
   ],
   "source": [
    "y_train.value_counts(normalize=True)"
   ]
  },
  {
   "cell_type": "code",
   "execution_count": 33,
   "id": "3286a347",
   "metadata": {
    "ExecuteTime": {
     "end_time": "2022-10-30T12:53:22.714686Z",
     "start_time": "2022-10-30T12:53:22.700621Z"
    }
   },
   "outputs": [
    {
     "data": {
      "text/plain": [
       "0    0.925639\n",
       "1    0.074361\n",
       "Name: good_bad, dtype: float64"
      ]
     },
     "execution_count": 33,
     "metadata": {},
     "output_type": "execute_result"
    }
   ],
   "source": [
    "# Distribusi y_test sudah sama persis dengan y_train\n",
    "y_test.value_counts(normalize=True)"
   ]
  },
  {
   "cell_type": "markdown",
   "id": "7089c5b6",
   "metadata": {},
   "source": [
    "# Data Cleaning"
   ]
  },
  {
   "cell_type": "code",
   "execution_count": 34,
   "id": "0bd0333a",
   "metadata": {
    "ExecuteTime": {
     "end_time": "2022-10-30T12:53:22.729551Z",
     "start_time": "2022-10-30T12:53:22.718498Z"
    }
   },
   "outputs": [
    {
     "data": {
      "text/plain": [
       "(607470, 65)"
      ]
     },
     "execution_count": 34,
     "metadata": {},
     "output_type": "execute_result"
    }
   ],
   "source": [
    "# Terdapat 65 kolom, bagaimana untuk mengetahui kolom apa saja yang memiliki data kotor?\n",
    "X_train.shape"
   ]
  },
  {
   "cell_type": "code",
   "execution_count": 35,
   "id": "da71bf0a",
   "metadata": {
    "ExecuteTime": {
     "end_time": "2022-10-30T12:53:22.745639Z",
     "start_time": "2022-10-30T12:53:22.730473Z"
    }
   },
   "outputs": [],
   "source": [
    "# Dapat dilakukan print untuk semua unique values kolom, sehingga dapat di cek satu-satu\n",
    "# unique values apa saja yang kotor.\n",
    "\n",
    "# for col in X_train.select_dtypes(include= ['object','bool']).columns:\n",
    "#     print(col)\n",
    "#     print(X_train[col].unique())\n",
    "#     print()"
   ]
  },
  {
   "cell_type": "code",
   "execution_count": 36,
   "id": "75626a48",
   "metadata": {
    "ExecuteTime": {
     "end_time": "2022-10-30T12:53:22.761686Z",
     "start_time": "2022-10-30T12:53:22.746532Z"
    }
   },
   "outputs": [],
   "source": [
    "# Kolom/feature yang harus di cleaning\n",
    "col_need_to_clean = ['term', 'emp_length', 'issue_d', 'earliest_cr_line', 'last_pymnt_d', \n",
    "                    'next_pymnt_d', 'last_credit_pull_d']"
   ]
  },
  {
   "cell_type": "code",
   "execution_count": 37,
   "id": "53822070",
   "metadata": {
    "ExecuteTime": {
     "end_time": "2022-10-30T12:53:23.120675Z",
     "start_time": "2022-10-30T12:53:22.762610Z"
    }
   },
   "outputs": [
    {
     "data": {
      "text/plain": [
       "147577    36\n",
       "505776    36\n",
       "412425    36\n",
       "618730    36\n",
       "111143    36\n",
       "          ..\n",
       "150426    36\n",
       "195135    36\n",
       "182511    36\n",
       "82596     36\n",
       "165904    36\n",
       "Name: term, Length: 607470, dtype: object"
      ]
     },
     "execution_count": 37,
     "metadata": {},
     "output_type": "execute_result"
    }
   ],
   "source": [
    "# Menghilangkan ' months' menjadi ''\n",
    "X_train['term'].str.replace(' months', '')"
   ]
  },
  {
   "cell_type": "code",
   "execution_count": 38,
   "id": "f84ef646",
   "metadata": {
    "ExecuteTime": {
     "end_time": "2022-10-30T12:53:23.761347Z",
     "start_time": "2022-10-30T12:53:23.121386Z"
    }
   },
   "outputs": [],
   "source": [
    "# Convert data type menjadi numeric \n",
    "X_train['term'] = pd.to_numeric(X_train['term'].str.replace(' months', ''))"
   ]
  },
  {
   "cell_type": "code",
   "execution_count": 39,
   "id": "e7b4dda8",
   "metadata": {
    "ExecuteTime": {
     "end_time": "2022-10-30T12:53:23.777337Z",
     "start_time": "2022-10-30T12:53:23.762255Z"
    }
   },
   "outputs": [
    {
     "data": {
      "text/plain": [
       "147577    36\n",
       "505776    36\n",
       "412425    36\n",
       "618730    36\n",
       "111143    36\n",
       "          ..\n",
       "150426    36\n",
       "195135    36\n",
       "182511    36\n",
       "82596     36\n",
       "165904    36\n",
       "Name: term, Length: 607470, dtype: int64"
      ]
     },
     "execution_count": 39,
     "metadata": {},
     "output_type": "execute_result"
    }
   ],
   "source": [
    "X_train['term']"
   ]
  },
  {
   "cell_type": "code",
   "execution_count": 40,
   "id": "a0daebfd",
   "metadata": {
    "ExecuteTime": {
     "end_time": "2022-10-30T12:53:23.822415Z",
     "start_time": "2022-10-30T12:53:23.778255Z"
    }
   },
   "outputs": [
    {
     "data": {
      "text/plain": [
       "array(['4 years', '10+ years', '< 1 year', '5 years', '6 years',\n",
       "       '7 years', '2 years', '3 years', '8 years', '1 year', nan,\n",
       "       '9 years'], dtype=object)"
      ]
     },
     "execution_count": 40,
     "metadata": {},
     "output_type": "execute_result"
    }
   ],
   "source": [
    "# Cek values apa saja yang harus di cleaning\n",
    "X_train['emp_length'].unique()"
   ]
  },
  {
   "cell_type": "code",
   "execution_count": 41,
   "id": "75438bd0",
   "metadata": {
    "ExecuteTime": {
     "end_time": "2022-10-30T12:53:25.401671Z",
     "start_time": "2022-10-30T12:53:23.823348Z"
    }
   },
   "outputs": [],
   "source": [
    "X_train['emp_length'] = X_train['emp_length'].str.replace('\\+ years', '')\n",
    "X_train['emp_length'] = X_train['emp_length'].str.replace(' years', '')\n",
    "X_train['emp_length'] = X_train['emp_length'].str.replace('< 1 year', str(0))\n",
    "X_train['emp_length'] = X_train['emp_length'].str.replace(' year', '')\n",
    "\n",
    "X_train['emp_length'].fillna(value = 0, inplace=True)\n",
    "X_train['emp_length'] = pd.to_numeric(X_train['emp_length'])"
   ]
  },
  {
   "cell_type": "code",
   "execution_count": 42,
   "id": "e7a10c07",
   "metadata": {
    "ExecuteTime": {
     "end_time": "2022-10-30T12:53:25.417579Z",
     "start_time": "2022-10-30T12:53:25.402672Z"
    }
   },
   "outputs": [
    {
     "data": {
      "text/plain": [
       "147577     4\n",
       "505776    10\n",
       "412425     0\n",
       "618730     5\n",
       "111143     6\n",
       "          ..\n",
       "150426     8\n",
       "195135     0\n",
       "182511    10\n",
       "82596      3\n",
       "165904     1\n",
       "Name: emp_length, Length: 607470, dtype: int64"
      ]
     },
     "execution_count": 42,
     "metadata": {},
     "output_type": "execute_result"
    }
   ],
   "source": [
    "X_train['emp_length']"
   ]
  },
  {
   "cell_type": "code",
   "execution_count": 43,
   "id": "9dee548d",
   "metadata": {
    "ExecuteTime": {
     "end_time": "2022-10-30T12:53:25.495356Z",
     "start_time": "2022-10-30T12:53:25.419493Z"
    }
   },
   "outputs": [
    {
     "data": {
      "text/html": [
       "<div>\n",
       "<style scoped>\n",
       "    .dataframe tbody tr th:only-of-type {\n",
       "        vertical-align: middle;\n",
       "    }\n",
       "\n",
       "    .dataframe tbody tr th {\n",
       "        vertical-align: top;\n",
       "    }\n",
       "\n",
       "    .dataframe thead th {\n",
       "        text-align: right;\n",
       "    }\n",
       "</style>\n",
       "<table border=\"1\" class=\"dataframe\">\n",
       "  <thead>\n",
       "    <tr style=\"text-align: right;\">\n",
       "      <th></th>\n",
       "      <th>issue_d</th>\n",
       "      <th>earliest_cr_line</th>\n",
       "      <th>last_pymnt_d</th>\n",
       "      <th>next_pymnt_d</th>\n",
       "      <th>last_credit_pull_d</th>\n",
       "    </tr>\n",
       "  </thead>\n",
       "  <tbody>\n",
       "    <tr>\n",
       "      <th>147577</th>\n",
       "      <td>Feb-2017</td>\n",
       "      <td>Aug-1994</td>\n",
       "      <td>Dec-2017</td>\n",
       "      <td>Jan-2018</td>\n",
       "      <td>Dec-2017</td>\n",
       "    </tr>\n",
       "    <tr>\n",
       "      <th>505776</th>\n",
       "      <td>Apr-2016</td>\n",
       "      <td>Sep-2001</td>\n",
       "      <td>Jul-2017</td>\n",
       "      <td>NaN</td>\n",
       "      <td>Nov-2017</td>\n",
       "    </tr>\n",
       "    <tr>\n",
       "      <th>412425</th>\n",
       "      <td>Jul-2017</td>\n",
       "      <td>May-1999</td>\n",
       "      <td>Dec-2017</td>\n",
       "      <td>Jan-2018</td>\n",
       "      <td>Dec-2017</td>\n",
       "    </tr>\n",
       "    <tr>\n",
       "      <th>618730</th>\n",
       "      <td>Oct-2016</td>\n",
       "      <td>Jun-2005</td>\n",
       "      <td>Dec-2017</td>\n",
       "      <td>Jan-2018</td>\n",
       "      <td>Dec-2017</td>\n",
       "    </tr>\n",
       "    <tr>\n",
       "      <th>111143</th>\n",
       "      <td>Mar-2017</td>\n",
       "      <td>Jan-2012</td>\n",
       "      <td>Dec-2017</td>\n",
       "      <td>Jan-2018</td>\n",
       "      <td>Dec-2017</td>\n",
       "    </tr>\n",
       "    <tr>\n",
       "      <th>...</th>\n",
       "      <td>...</td>\n",
       "      <td>...</td>\n",
       "      <td>...</td>\n",
       "      <td>...</td>\n",
       "      <td>...</td>\n",
       "    </tr>\n",
       "    <tr>\n",
       "      <th>150426</th>\n",
       "      <td>Feb-2017</td>\n",
       "      <td>Nov-1998</td>\n",
       "      <td>Nov-2017</td>\n",
       "      <td>NaN</td>\n",
       "      <td>Dec-2017</td>\n",
       "    </tr>\n",
       "    <tr>\n",
       "      <th>195135</th>\n",
       "      <td>Jan-2017</td>\n",
       "      <td>Sep-1993</td>\n",
       "      <td>Dec-2017</td>\n",
       "      <td>Jan-2018</td>\n",
       "      <td>Dec-2017</td>\n",
       "    </tr>\n",
       "    <tr>\n",
       "      <th>182511</th>\n",
       "      <td>Jan-2017</td>\n",
       "      <td>Mar-1988</td>\n",
       "      <td>Dec-2017</td>\n",
       "      <td>Jan-2018</td>\n",
       "      <td>Dec-2017</td>\n",
       "    </tr>\n",
       "    <tr>\n",
       "      <th>82596</th>\n",
       "      <td>Apr-2017</td>\n",
       "      <td>Jan-2003</td>\n",
       "      <td>Dec-2017</td>\n",
       "      <td>Jan-2018</td>\n",
       "      <td>Dec-2017</td>\n",
       "    </tr>\n",
       "    <tr>\n",
       "      <th>165904</th>\n",
       "      <td>Feb-2017</td>\n",
       "      <td>Nov-2000</td>\n",
       "      <td>Dec-2017</td>\n",
       "      <td>Jan-2018</td>\n",
       "      <td>Dec-2017</td>\n",
       "    </tr>\n",
       "  </tbody>\n",
       "</table>\n",
       "<p>607470 rows × 5 columns</p>\n",
       "</div>"
      ],
      "text/plain": [
       "         issue_d earliest_cr_line last_pymnt_d next_pymnt_d last_credit_pull_d\n",
       "147577  Feb-2017         Aug-1994     Dec-2017     Jan-2018           Dec-2017\n",
       "505776  Apr-2016         Sep-2001     Jul-2017          NaN           Nov-2017\n",
       "412425  Jul-2017         May-1999     Dec-2017     Jan-2018           Dec-2017\n",
       "618730  Oct-2016         Jun-2005     Dec-2017     Jan-2018           Dec-2017\n",
       "111143  Mar-2017         Jan-2012     Dec-2017     Jan-2018           Dec-2017\n",
       "...          ...              ...          ...          ...                ...\n",
       "150426  Feb-2017         Nov-1998     Nov-2017          NaN           Dec-2017\n",
       "195135  Jan-2017         Sep-1993     Dec-2017     Jan-2018           Dec-2017\n",
       "182511  Jan-2017         Mar-1988     Dec-2017     Jan-2018           Dec-2017\n",
       "82596   Apr-2017         Jan-2003     Dec-2017     Jan-2018           Dec-2017\n",
       "165904  Feb-2017         Nov-2000     Dec-2017     Jan-2018           Dec-2017\n",
       "\n",
       "[607470 rows x 5 columns]"
      ]
     },
     "execution_count": 43,
     "metadata": {},
     "output_type": "execute_result"
    }
   ],
   "source": [
    "# Cek feature date\n",
    "col_date = ['issue_d', 'earliest_cr_line', 'last_pymnt_d',\n",
    "                    'next_pymnt_d', 'last_credit_pull_d']\n",
    "\n",
    "X_train[col_date]"
   ]
  },
  {
   "cell_type": "code",
   "execution_count": 44,
   "id": "d40b26cd",
   "metadata": {
    "ExecuteTime": {
     "end_time": "2022-10-30T12:53:26.130376Z",
     "start_time": "2022-10-30T12:53:25.499266Z"
    }
   },
   "outputs": [],
   "source": [
    "for col in col_date:\n",
    "    X_train[col] = pd.to_datetime(X_train[col])"
   ]
  },
  {
   "cell_type": "code",
   "execution_count": 45,
   "id": "50e11ea3",
   "metadata": {
    "ExecuteTime": {
     "end_time": "2022-10-30T12:53:26.804777Z",
     "start_time": "2022-10-30T12:53:26.131306Z"
    }
   },
   "outputs": [],
   "source": [
    "# Lakukan hal yang sama untuk X_test\n",
    "X_test['term'] = pd.to_numeric(X_test['term'].str.replace(' months', ''))\n",
    "\n",
    "X_test['emp_length'] = X_test['emp_length'].str.replace('\\+ years', '')\n",
    "X_test['emp_length'] = X_test['emp_length'].str.replace(' years', '')\n",
    "X_test['emp_length'] = X_test['emp_length'].str.replace('< 1 year', str(0))\n",
    "X_test['emp_length'] = X_test['emp_length'].str.replace(' year', '')\n",
    "\n",
    "X_test['emp_length'].fillna(value = 0, inplace=True)\n",
    "X_test['emp_length'] = pd.to_numeric(X_test['emp_length'])\n",
    "\n",
    "for col in col_date:\n",
    "    X_test[col] = pd.to_datetime(X_test[col])"
   ]
  },
  {
   "cell_type": "code",
   "execution_count": 46,
   "id": "70bdb832",
   "metadata": {
    "ExecuteTime": {
     "end_time": "2022-10-30T12:53:26.835681Z",
     "start_time": "2022-10-30T12:53:26.805679Z"
    }
   },
   "outputs": [
    {
     "name": "stdout",
     "output_type": "stream",
     "text": [
      "<class 'pandas.core.frame.DataFrame'>\n",
      "Int64Index: 151868 entries, 280647 to 267584\n",
      "Data columns (total 7 columns):\n",
      " #   Column              Non-Null Count   Dtype         \n",
      "---  ------              --------------   -----         \n",
      " 0   term                151868 non-null  int64         \n",
      " 1   emp_length          151868 non-null  int64         \n",
      " 2   issue_d             151868 non-null  datetime64[ns]\n",
      " 3   earliest_cr_line    151868 non-null  datetime64[ns]\n",
      " 4   last_pymnt_d        151655 non-null  datetime64[ns]\n",
      " 5   next_pymnt_d        118276 non-null  datetime64[ns]\n",
      " 6   last_credit_pull_d  151867 non-null  datetime64[ns]\n",
      "dtypes: datetime64[ns](5), int64(2)\n",
      "memory usage: 9.3 MB\n"
     ]
    }
   ],
   "source": [
    "# Check apakah berhasil di cleaning\n",
    "X_test[col_need_to_clean].info()"
   ]
  },
  {
   "cell_type": "markdown",
   "id": "383ebe3b",
   "metadata": {},
   "source": [
    "# Feature Engineering"
   ]
  },
  {
   "cell_type": "code",
   "execution_count": 47,
   "id": "05379a7c",
   "metadata": {
    "ExecuteTime": {
     "end_time": "2022-10-30T12:53:26.851640Z",
     "start_time": "2022-10-30T12:53:26.836472Z"
    }
   },
   "outputs": [
    {
     "data": {
      "text/plain": [
       "((607470, 65), (607470,), (151868, 65), (151868,))"
      ]
     },
     "execution_count": 47,
     "metadata": {},
     "output_type": "execute_result"
    }
   ],
   "source": [
    "X_train.shape, y_train.shape, X_test.shape, y_test.shape"
   ]
  },
  {
   "cell_type": "code",
   "execution_count": 48,
   "id": "03da3bc1",
   "metadata": {
    "ExecuteTime": {
     "end_time": "2022-10-30T12:53:26.866655Z",
     "start_time": "2022-10-30T12:53:26.852543Z"
    }
   },
   "outputs": [
    {
     "data": {
      "text/plain": [
       "['term',\n",
       " 'emp_length',\n",
       " 'issue_d',\n",
       " 'earliest_cr_line',\n",
       " 'last_pymnt_d',\n",
       " 'next_pymnt_d',\n",
       " 'last_credit_pull_d']"
      ]
     },
     "execution_count": 48,
     "metadata": {},
     "output_type": "execute_result"
    }
   ],
   "source": [
    "# Kolom yang akan di feature engineering\n",
    "col_need_to_clean"
   ]
  },
  {
   "cell_type": "code",
   "execution_count": 49,
   "id": "c3f296f2",
   "metadata": {
    "ExecuteTime": {
     "end_time": "2022-10-30T12:53:26.958884Z",
     "start_time": "2022-10-30T12:53:26.867587Z"
    }
   },
   "outputs": [],
   "source": [
    "X_train = X_train[col_need_to_clean]\n",
    "X_test = X_test[col_need_to_clean]"
   ]
  },
  {
   "cell_type": "code",
   "execution_count": 50,
   "id": "69eadfde",
   "metadata": {
    "ExecuteTime": {
     "end_time": "2022-10-30T12:53:26.974412Z",
     "start_time": "2022-10-30T12:53:26.960415Z"
    }
   },
   "outputs": [],
   "source": [
    "# tidak dibutuhkan untuk feature engineering\n",
    "del X_train['next_pymnt_d']\n",
    "del X_test['next_pymnt_d']"
   ]
  },
  {
   "cell_type": "code",
   "execution_count": 51,
   "id": "b5945ef6",
   "metadata": {
    "ExecuteTime": {
     "end_time": "2022-10-30T12:53:26.989493Z",
     "start_time": "2022-10-30T12:53:26.975413Z"
    }
   },
   "outputs": [
    {
     "data": {
      "text/plain": [
       "((607470, 6), (151868, 6))"
      ]
     },
     "execution_count": 51,
     "metadata": {},
     "output_type": "execute_result"
    }
   ],
   "source": [
    "X_train.shape, X_test.shape"
   ]
  },
  {
   "cell_type": "code",
   "execution_count": 52,
   "id": "d5914c83",
   "metadata": {
    "ExecuteTime": {
     "end_time": "2022-10-30T12:53:27.004958Z",
     "start_time": "2022-10-30T12:53:26.990506Z"
    }
   },
   "outputs": [
    {
     "data": {
      "text/plain": [
       "'2023-04-17'"
      ]
     },
     "execution_count": 52,
     "metadata": {},
     "output_type": "execute_result"
    }
   ],
   "source": [
    "from datetime import date\n",
    "\n",
    "date.today().strftime('%Y-%m-%d')"
   ]
  },
  {
   "cell_type": "code",
   "execution_count": 53,
   "id": "c16de094",
   "metadata": {
    "ExecuteTime": {
     "end_time": "2022-10-30T12:53:27.397510Z",
     "start_time": "2022-10-30T12:53:27.005872Z"
    }
   },
   "outputs": [],
   "source": [
    "# feature engineering untuk date columns\n",
    "def date_columns(df, column):\n",
    "    today_date = pd.to_datetime(date.today().strftime('%Y-%m-%d'))\n",
    "    df[column] = pd.to_datetime(df[column], format = \"%b-%y\")\n",
    "    df['mths_since_' + column] = round(pd.to_numeric((today_date - df[column]) / np.timedelta64(1, 'M')))\n",
    "    df.drop(columns = [column], inplace=True)\n",
    "    \n",
    "# apply to X_train\n",
    "date_columns(X_train, 'earliest_cr_line')\n",
    "date_columns(X_train, 'issue_d')\n",
    "date_columns(X_train, 'last_pymnt_d')\n",
    "date_columns(X_train, 'last_credit_pull_d')"
   ]
  },
  {
   "cell_type": "code",
   "execution_count": 54,
   "id": "32f5a061",
   "metadata": {
    "ExecuteTime": {
     "end_time": "2022-10-30T12:53:27.507685Z",
     "start_time": "2022-10-30T12:53:27.398508Z"
    }
   },
   "outputs": [],
   "source": [
    "# apply to X_test\n",
    "date_columns(X_test, 'earliest_cr_line')\n",
    "date_columns(X_test, 'issue_d')\n",
    "date_columns(X_test, 'last_pymnt_d')\n",
    "date_columns(X_test, 'last_credit_pull_d')"
   ]
  },
  {
   "cell_type": "code",
   "execution_count": 55,
   "id": "506a1053",
   "metadata": {
    "ExecuteTime": {
     "end_time": "2022-10-30T12:53:27.523206Z",
     "start_time": "2022-10-30T12:53:27.508602Z"
    }
   },
   "outputs": [
    {
     "data": {
      "text/plain": [
       "term                               0\n",
       "emp_length                         0\n",
       "mths_since_earliest_cr_line        0\n",
       "mths_since_issue_d                 0\n",
       "mths_since_last_pymnt_d          213\n",
       "mths_since_last_credit_pull_d      1\n",
       "dtype: int64"
      ]
     },
     "execution_count": 55,
     "metadata": {},
     "output_type": "execute_result"
    }
   ],
   "source": [
    "X_test.isnull().sum()"
   ]
  },
  {
   "cell_type": "code",
   "execution_count": 56,
   "id": "83226e15",
   "metadata": {
    "ExecuteTime": {
     "end_time": "2022-10-30T12:53:27.539318Z",
     "start_time": "2022-10-30T12:53:27.524203Z"
    }
   },
   "outputs": [
    {
     "data": {
      "text/plain": [
       "term                               0\n",
       "emp_length                         0\n",
       "mths_since_earliest_cr_line        0\n",
       "mths_since_issue_d                 0\n",
       "mths_since_last_pymnt_d          735\n",
       "mths_since_last_credit_pull_d     17\n",
       "dtype: int64"
      ]
     },
     "execution_count": 56,
     "metadata": {},
     "output_type": "execute_result"
    }
   ],
   "source": [
    "X_train.isnull().sum()"
   ]
  },
  {
   "cell_type": "code",
   "execution_count": 57,
   "id": "a323ed44",
   "metadata": {
    "ExecuteTime": {
     "end_time": "2022-10-30T12:53:27.600693Z",
     "start_time": "2022-10-30T12:53:27.540334Z"
    }
   },
   "outputs": [],
   "source": [
    "X_train.fillna(X_train.median(), inplace=True)\n",
    "X_test.fillna(X_test.median(), inplace=True)"
   ]
  },
  {
   "cell_type": "markdown",
   "id": "1c0b42e8",
   "metadata": {},
   "source": [
    "# Modelling"
   ]
  },
  {
   "cell_type": "code",
   "execution_count": 58,
   "id": "404ef5c0",
   "metadata": {
    "ExecuteTime": {
     "end_time": "2022-10-30T12:53:27.646465Z",
     "start_time": "2022-10-30T12:53:27.602390Z"
    }
   },
   "outputs": [],
   "source": [
    "from sklearn.linear_model import LogisticRegression"
   ]
  },
  {
   "cell_type": "code",
   "execution_count": 59,
   "id": "7d6404fb",
   "metadata": {
    "ExecuteTime": {
     "end_time": "2022-10-30T12:53:27.661393Z",
     "start_time": "2022-10-30T12:53:27.647393Z"
    }
   },
   "outputs": [],
   "source": [
    "model = LogisticRegression()"
   ]
  },
  {
   "cell_type": "code",
   "execution_count": 60,
   "id": "7576b95e",
   "metadata": {
    "ExecuteTime": {
     "end_time": "2022-10-30T12:53:30.774232Z",
     "start_time": "2022-10-30T12:53:27.662392Z"
    }
   },
   "outputs": [],
   "source": [
    "model.fit(X_train, y_train)\n",
    "y_pred = model.predict(X_test)"
   ]
  },
  {
   "cell_type": "code",
   "execution_count": 61,
   "id": "15e189fb",
   "metadata": {
    "ExecuteTime": {
     "end_time": "2022-10-30T12:53:30.979330Z",
     "start_time": "2022-10-30T12:53:30.775310Z"
    }
   },
   "outputs": [
    {
     "data": {
      "text/html": [
       "<div>\n",
       "<style scoped>\n",
       "    .dataframe tbody tr th:only-of-type {\n",
       "        vertical-align: middle;\n",
       "    }\n",
       "\n",
       "    .dataframe tbody tr th {\n",
       "        vertical-align: top;\n",
       "    }\n",
       "\n",
       "    .dataframe thead th {\n",
       "        text-align: right;\n",
       "    }\n",
       "</style>\n",
       "<table border=\"1\" class=\"dataframe\">\n",
       "  <thead>\n",
       "    <tr style=\"text-align: right;\">\n",
       "      <th></th>\n",
       "      <th>y_pred</th>\n",
       "      <th>y_test</th>\n",
       "    </tr>\n",
       "  </thead>\n",
       "  <tbody>\n",
       "    <tr>\n",
       "      <th>0</th>\n",
       "      <td>0</td>\n",
       "      <td>1</td>\n",
       "    </tr>\n",
       "    <tr>\n",
       "      <th>1</th>\n",
       "      <td>0</td>\n",
       "      <td>0</td>\n",
       "    </tr>\n",
       "    <tr>\n",
       "      <th>2</th>\n",
       "      <td>0</td>\n",
       "      <td>0</td>\n",
       "    </tr>\n",
       "    <tr>\n",
       "      <th>3</th>\n",
       "      <td>0</td>\n",
       "      <td>0</td>\n",
       "    </tr>\n",
       "    <tr>\n",
       "      <th>4</th>\n",
       "      <td>0</td>\n",
       "      <td>0</td>\n",
       "    </tr>\n",
       "  </tbody>\n",
       "</table>\n",
       "</div>"
      ],
      "text/plain": [
       "   y_pred  y_test\n",
       "0       0       1\n",
       "1       0       0\n",
       "2       0       0\n",
       "3       0       0\n",
       "4       0       0"
      ]
     },
     "execution_count": 61,
     "metadata": {},
     "output_type": "execute_result"
    }
   ],
   "source": [
    "result = pd.DataFrame(list(zip(y_pred,y_test)), columns = ['y_pred', 'y_test'])\n",
    "result.head()"
   ]
  },
  {
   "cell_type": "code",
   "execution_count": 62,
   "id": "9c9305dc",
   "metadata": {
    "ExecuteTime": {
     "end_time": "2022-10-30T12:53:31.010414Z",
     "start_time": "2022-10-30T12:53:30.980328Z"
    }
   },
   "outputs": [
    {
     "data": {
      "text/plain": [
       "0.9178892195854295"
      ]
     },
     "execution_count": 62,
     "metadata": {},
     "output_type": "execute_result"
    }
   ],
   "source": [
    "from sklearn.metrics import accuracy_score\n",
    "accuracy_score(y_test, y_pred)"
   ]
  },
  {
   "cell_type": "code",
   "execution_count": 63,
   "id": "3a422084",
   "metadata": {
    "ExecuteTime": {
     "end_time": "2022-10-30T12:53:31.443841Z",
     "start_time": "2022-10-30T12:53:31.011330Z"
    }
   },
   "outputs": [],
   "source": [
    "from sklearn.metrics import confusion_matrix\n",
    "\n",
    "import matplotlib.pyplot as plt\n",
    "import seaborn as sns"
   ]
  },
  {
   "cell_type": "code",
   "execution_count": 64,
   "id": "dd3a37e3",
   "metadata": {
    "ExecuteTime": {
     "end_time": "2022-10-30T12:53:31.662222Z",
     "start_time": "2022-10-30T12:53:31.444772Z"
    }
   },
   "outputs": [
    {
     "data": {
      "image/png": "[encoded data removed]",
      "text/plain": [
       "<Figure size 640x480 with 2 Axes>"
      ]
     },
     "metadata": {},
     "output_type": "display_data"
    }
   ],
   "source": [
    "cm = confusion_matrix(y_test, y_pred)\n",
    "\n",
    "\n",
    "sns.heatmap(cm, annot=True, fmt='.0f', cmap=plt.cm.Blues)\n",
    "plt.xlabel('y_pred')\n",
    "plt.ylabel('y_test')\n",
    "\n",
    "plt.show()"
   ]
  },
  {
   "cell_type": "code",
   "execution_count": 65,
   "id": "2b7c755c",
   "metadata": {
    "ExecuteTime": {
     "end_time": "2022-10-30T12:53:31.677306Z",
     "start_time": "2022-10-30T12:53:31.663222Z"
    }
   },
   "outputs": [
    {
     "data": {
      "text/plain": [
       "0    0.925642\n",
       "1    0.074358\n",
       "Name: good_bad, dtype: float64"
      ]
     },
     "execution_count": 65,
     "metadata": {},
     "output_type": "execute_result"
    }
   ],
   "source": [
    "y_train.value_counts(normalize=True)"
   ]
  },
  {
   "cell_type": "markdown",
   "id": "310dedb3",
   "metadata": {},
   "source": [
    "# Modelling II"
   ]
  },
  {
   "cell_type": "code",
   "execution_count": 66,
   "id": "d474c3b0",
   "metadata": {
    "ExecuteTime": {
     "end_time": "2022-10-30T13:32:20.181198Z",
     "start_time": "2022-10-30T13:32:20.168129Z"
    }
   },
   "outputs": [
    {
     "data": {
      "text/plain": [
       "array([0, 0, 0, ..., 0, 0, 0])"
      ]
     },
     "execution_count": 66,
     "metadata": {},
     "output_type": "execute_result"
    }
   ],
   "source": [
    "model.predict(X_test)"
   ]
  },
  {
   "cell_type": "code",
   "execution_count": 67,
   "id": "2ce1daaf",
   "metadata": {
    "ExecuteTime": {
     "end_time": "2022-10-30T13:34:11.243184Z",
     "start_time": "2022-10-30T13:34:11.228923Z"
    }
   },
   "outputs": [],
   "source": [
    "# memprediksi probability dan mengambil probability kelas positive\n",
    "y_pred = model.predict_proba(X_test)[:, 1]"
   ]
  },
  {
   "cell_type": "code",
   "execution_count": 68,
   "id": "32facfa0",
   "metadata": {
    "ExecuteTime": {
     "end_time": "2022-10-30T13:34:32.946274Z",
     "start_time": "2022-10-30T13:34:32.935019Z"
    }
   },
   "outputs": [
    {
     "data": {
      "text/plain": [
       "array([0.26541557, 0.02478948, 0.00930856, ..., 0.00786081, 0.06157354,\n",
       "       0.03544027])"
      ]
     },
     "execution_count": 68,
     "metadata": {},
     "output_type": "execute_result"
    }
   ],
   "source": [
    "y_pred"
   ]
  },
  {
   "cell_type": "code",
   "execution_count": 69,
   "id": "897ae281",
   "metadata": {
    "ExecuteTime": {
     "end_time": "2022-10-30T13:34:28.463465Z",
     "start_time": "2022-10-30T13:34:28.456010Z"
    }
   },
   "outputs": [
    {
     "data": {
      "text/plain": [
       "array([0, 0, 0, ..., 0, 0, 0])"
      ]
     },
     "execution_count": 69,
     "metadata": {},
     "output_type": "execute_result"
    }
   ],
   "source": [
    "(y_pred > 0.5).astype(int)"
   ]
  },
  {
   "cell_type": "code",
   "execution_count": 70,
   "id": "e4bb5070",
   "metadata": {
    "ExecuteTime": {
     "end_time": "2022-10-30T13:35:35.116778Z",
     "start_time": "2022-10-30T13:35:34.928584Z"
    }
   },
   "outputs": [
    {
     "data": {
      "image/png": "[encoded data removed]",
      "text/plain": [
       "<Figure size 640x480 with 1 Axes>"
      ]
     },
     "metadata": {},
     "output_type": "display_data"
    }
   ],
   "source": [
    "# distribusi predicted probability\n",
    "plt.hist(y_pred);"
   ]
  },
  {
   "cell_type": "code",
   "execution_count": 71,
   "id": "4dba64dd",
   "metadata": {
    "ExecuteTime": {
     "end_time": "2022-10-30T13:36:49.648830Z",
     "start_time": "2022-10-30T13:36:49.610827Z"
    }
   },
   "outputs": [],
   "source": [
    "from sklearn.metrics import roc_curve\n",
    "\n",
    "fpr, tpr, thresholds = roc_curve(y_test, y_pred)"
   ]
  },
  {
   "cell_type": "code",
   "execution_count": 72,
   "id": "766b7145",
   "metadata": {
    "ExecuteTime": {
     "end_time": "2022-10-30T13:39:01.205954Z",
     "start_time": "2022-10-30T13:39:01.196951Z"
    }
   },
   "outputs": [
    {
     "data": {
      "text/plain": [
       "0.06228291296507578"
      ]
     },
     "execution_count": 72,
     "metadata": {},
     "output_type": "execute_result"
    }
   ],
   "source": [
    "# youden j-statistic\n",
    "j = tpr - fpr\n",
    "\n",
    "ix = np.argmax(j)\n",
    "\n",
    "best_thresh = thresholds[ix]\n",
    "best_thresh"
   ]
  },
  {
   "cell_type": "code",
   "execution_count": 73,
   "id": "4b050a22",
   "metadata": {
    "ExecuteTime": {
     "end_time": "2022-10-30T13:40:34.344704Z",
     "start_time": "2022-10-30T13:40:34.323712Z"
    }
   },
   "outputs": [],
   "source": [
    "y_pred = model.predict_proba(X_test)[:, 1]\n",
    "y_pred = (y_pred > 0.066).astype(int)"
   ]
  },
  {
   "cell_type": "code",
   "execution_count": 74,
   "id": "5b136193",
   "metadata": {
    "ExecuteTime": {
     "end_time": "2022-10-30T13:40:40.241061Z",
     "start_time": "2022-10-30T13:40:40.077075Z"
    }
   },
   "outputs": [
    {
     "data": {
      "image/png": "[encoded data removed]",
      "text/plain": [
       "<Figure size 640x480 with 2 Axes>"
      ]
     },
     "metadata": {},
     "output_type": "display_data"
    }
   ],
   "source": [
    "cm = confusion_matrix(y_test, y_pred)\n",
    "\n",
    "\n",
    "sns.heatmap(cm, annot=True, fmt='.0f', cmap=plt.cm.Blues)\n",
    "plt.xlabel('y_pred')\n",
    "plt.ylabel('y_test')\n",
    "\n",
    "plt.show()"
   ]
  },
  {
   "cell_type": "code",
   "execution_count": 75,
   "id": "c94a7c39",
   "metadata": {
    "ExecuteTime": {
     "end_time": "2022-10-30T13:44:02.975139Z",
     "start_time": "2022-10-30T13:44:02.955486Z"
    }
   },
   "outputs": [
    {
     "data": {
      "text/plain": [
       "array([[ 0.01761812, -0.03209244, -0.00100832,  0.04225313,  0.23703183,\n",
       "        -0.14868967]])"
      ]
     },
     "execution_count": 75,
     "metadata": {},
     "output_type": "execute_result"
    }
   ],
   "source": [
    "model.coef_"
   ]
  },
  {
   "cell_type": "code",
   "execution_count": 76,
   "id": "54ec369b",
   "metadata": {
    "ExecuteTime": {
     "end_time": "2022-10-30T13:46:41.210425Z",
     "start_time": "2022-10-30T13:46:41.191158Z"
    }
   },
   "outputs": [
    {
     "data": {
      "text/plain": [
       "array([-12.48473449])"
      ]
     },
     "execution_count": 76,
     "metadata": {},
     "output_type": "execute_result"
    }
   ],
   "source": [
    "model.intercept_"
   ]
  },
  {
   "cell_type": "code",
   "execution_count": 77,
   "id": "0b7adcd9",
   "metadata": {
    "ExecuteTime": {
     "end_time": "2022-10-30T13:45:36.028677Z",
     "start_time": "2022-10-30T13:45:36.018636Z"
    }
   },
   "outputs": [
    {
     "data": {
      "text/html": [
       "<div>\n",
       "<style scoped>\n",
       "    .dataframe tbody tr th:only-of-type {\n",
       "        vertical-align: middle;\n",
       "    }\n",
       "\n",
       "    .dataframe tbody tr th {\n",
       "        vertical-align: top;\n",
       "    }\n",
       "\n",
       "    .dataframe thead th {\n",
       "        text-align: right;\n",
       "    }\n",
       "</style>\n",
       "<table border=\"1\" class=\"dataframe\">\n",
       "  <thead>\n",
       "    <tr style=\"text-align: right;\">\n",
       "      <th></th>\n",
       "      <th>term</th>\n",
       "      <th>emp_length</th>\n",
       "      <th>mths_since_earliest_cr_line</th>\n",
       "      <th>mths_since_issue_d</th>\n",
       "      <th>mths_since_last_pymnt_d</th>\n",
       "      <th>mths_since_last_credit_pull_d</th>\n",
       "    </tr>\n",
       "  </thead>\n",
       "  <tbody>\n",
       "    <tr>\n",
       "      <th>0</th>\n",
       "      <td>0.017618</td>\n",
       "      <td>-0.032092</td>\n",
       "      <td>-0.001008</td>\n",
       "      <td>0.042253</td>\n",
       "      <td>0.237032</td>\n",
       "      <td>-0.14869</td>\n",
       "    </tr>\n",
       "  </tbody>\n",
       "</table>\n",
       "</div>"
      ],
      "text/plain": [
       "       term  emp_length  mths_since_earliest_cr_line  mths_since_issue_d  \\\n",
       "0  0.017618   -0.032092                    -0.001008            0.042253   \n",
       "\n",
       "   mths_since_last_pymnt_d  mths_since_last_credit_pull_d  \n",
       "0                 0.237032                       -0.14869  "
      ]
     },
     "execution_count": 77,
     "metadata": {},
     "output_type": "execute_result"
    }
   ],
   "source": [
    "df_coeff = pd.DataFrame(model.coef_, columns=X_train.columns)\n",
    "df_coeff"
   ]
  },
  {
   "cell_type": "code",
   "execution_count": 78,
   "id": "b3021a8d",
   "metadata": {
    "ExecuteTime": {
     "end_time": "2022-10-30T13:44:35.840441Z",
     "start_time": "2022-10-30T13:44:35.817974Z"
    }
   },
   "outputs": [
    {
     "data": {
      "text/html": [
       "<div>\n",
       "<style scoped>\n",
       "    .dataframe tbody tr th:only-of-type {\n",
       "        vertical-align: middle;\n",
       "    }\n",
       "\n",
       "    .dataframe tbody tr th {\n",
       "        vertical-align: top;\n",
       "    }\n",
       "\n",
       "    .dataframe thead th {\n",
       "        text-align: right;\n",
       "    }\n",
       "</style>\n",
       "<table border=\"1\" class=\"dataframe\">\n",
       "  <thead>\n",
       "    <tr style=\"text-align: right;\">\n",
       "      <th></th>\n",
       "      <th>term</th>\n",
       "      <th>emp_length</th>\n",
       "      <th>mths_since_earliest_cr_line</th>\n",
       "      <th>mths_since_issue_d</th>\n",
       "      <th>mths_since_last_pymnt_d</th>\n",
       "      <th>mths_since_last_credit_pull_d</th>\n",
       "    </tr>\n",
       "  </thead>\n",
       "  <tbody>\n",
       "    <tr>\n",
       "      <th>147577</th>\n",
       "      <td>36</td>\n",
       "      <td>4</td>\n",
       "      <td>345.0</td>\n",
       "      <td>74.0</td>\n",
       "      <td>64.0</td>\n",
       "      <td>64.0</td>\n",
       "    </tr>\n",
       "    <tr>\n",
       "      <th>505776</th>\n",
       "      <td>36</td>\n",
       "      <td>10</td>\n",
       "      <td>259.0</td>\n",
       "      <td>85.0</td>\n",
       "      <td>70.0</td>\n",
       "      <td>65.0</td>\n",
       "    </tr>\n",
       "    <tr>\n",
       "      <th>412425</th>\n",
       "      <td>36</td>\n",
       "      <td>0</td>\n",
       "      <td>288.0</td>\n",
       "      <td>70.0</td>\n",
       "      <td>64.0</td>\n",
       "      <td>64.0</td>\n",
       "    </tr>\n",
       "    <tr>\n",
       "      <th>618730</th>\n",
       "      <td>36</td>\n",
       "      <td>5</td>\n",
       "      <td>215.0</td>\n",
       "      <td>78.0</td>\n",
       "      <td>64.0</td>\n",
       "      <td>64.0</td>\n",
       "    </tr>\n",
       "    <tr>\n",
       "      <th>111143</th>\n",
       "      <td>36</td>\n",
       "      <td>6</td>\n",
       "      <td>135.0</td>\n",
       "      <td>74.0</td>\n",
       "      <td>64.0</td>\n",
       "      <td>64.0</td>\n",
       "    </tr>\n",
       "  </tbody>\n",
       "</table>\n",
       "</div>"
      ],
      "text/plain": [
       "        term  emp_length  mths_since_earliest_cr_line  mths_since_issue_d  \\\n",
       "147577    36           4                        345.0                74.0   \n",
       "505776    36          10                        259.0                85.0   \n",
       "412425    36           0                        288.0                70.0   \n",
       "618730    36           5                        215.0                78.0   \n",
       "111143    36           6                        135.0                74.0   \n",
       "\n",
       "        mths_since_last_pymnt_d  mths_since_last_credit_pull_d  \n",
       "147577                     64.0                           64.0  \n",
       "505776                     70.0                           65.0  \n",
       "412425                     64.0                           64.0  \n",
       "618730                     64.0                           64.0  \n",
       "111143                     64.0                           64.0  "
      ]
     },
     "execution_count": 78,
     "metadata": {},
     "output_type": "execute_result"
    }
   ],
   "source": [
    "X_train.head()"
   ]
  },
  {
   "cell_type": "code",
   "execution_count": null,
   "id": "77180205",
   "metadata": {},
   "outputs": [],
   "source": []
  }
 ],
 "metadata": {
  "kernelspec": {
   "display_name": "Python 3 (ipykernel)",
   "language": "python",
   "name": "python3"
  },
  "language_info": {
   "codemirror_mode": {
    "name": "ipython",
    "version": 3
   },
   "file_extension": ".py",
   "mimetype": "text/x-python",
   "name": "python",
   "nbconvert_exporter": "python",
   "pygments_lexer": "ipython3",
   "version": "3.11.1"
  },
  "toc": {
   "base_numbering": 1,
   "nav_menu": {},
   "number_sections": true,
   "sideBar": true,
   "skip_h1_title": false,
   "title_cell": "Table of Contents",
   "title_sidebar": "Contents",
   "toc_cell": false,
   "toc_position": {
    "height": "calc(100% - 180px)",
    "left": "10px",
    "top": "150px",
    "width": "250px"
   },
   "toc_section_display": true,
   "toc_window_display": true
  }
 },
 "nbformat": 4,
 "nbformat_minor": 5
}
